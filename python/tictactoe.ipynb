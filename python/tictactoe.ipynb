{
 "cells": [
  {
   "cell_type": "markdown",
   "metadata": {},
   "source": [
    "# TIC TAC TOE \n",
    "                       -- Created by LAKSHAY CHAWLA"
   ]
  },
  {
   "cell_type": "code",
   "execution_count": 1,
   "metadata": {},
   "outputs": [],
   "source": [
    "from IPython.display import clear_output\n",
    "\n",
    "def display_board(board):\n",
    "    \n",
    "    clear_output()\n",
    "    \n",
    "    print('        |        |        ')\n",
    "    print('  '+board[7] +'     |   '+board[8] +'    |   '+board[9])\n",
    "    print('________|________|________')\n",
    "    print('        |        |        ')\n",
    "    print('  '+board[4] +'     |   '+board[5] +'    |   '+board[6])                           # Print Board command\n",
    "    print('________|________|________')\n",
    "    print('        |        |        ')\n",
    "    print('  '+board[1] +'     |  '+board[2] +'     |   '+board[3])\n",
    "    print('        |        |        ')    "
   ]
  },
  {
   "cell_type": "code",
   "execution_count": 2,
   "metadata": {},
   "outputs": [
    {
     "name": "stdout",
     "output_type": "stream",
     "text": [
      "        |        |        \n",
      "        |        |    \n",
      "________|________|________\n",
      "        |        |        \n",
      "        |        |    \n",
      "________|________|________\n",
      "        |        |        \n",
      "        |        |    \n",
      "        |        |        \n"
     ]
    }
   ],
   "source": [
    "test_board = ['#',' ',' ',' ',' ',' ',' ',' ',' ',' ']\n",
    "display_board(test_board)"
   ]
  },
  {
   "cell_type": "code",
   "execution_count": 3,
   "metadata": {},
   "outputs": [],
   "source": [
    "def player_input():\n",
    "    \n",
    "    marker = ''\n",
    "    \n",
    "    while not(marker == 'X' and marker == 'O'):\n",
    "        marker = input('CHOOSE UR MARKER?\\n ').upper()\n",
    "        \n",
    "        if marker == 'X':\n",
    "            return('X','O')       # <---------- tuples for further unpacking\n",
    "        \n",
    "        else:\n",
    "            return('O','X')       # <--------- tuples for further unpacking"
   ]
  },
  {
   "cell_type": "code",
   "execution_count": 4,
   "metadata": {},
   "outputs": [
    {
     "name": "stdout",
     "output_type": "stream",
     "text": [
      "CHOOSE UR MARKER?\n",
      " x\n"
     ]
    }
   ],
   "source": [
    "player1_marker , player2_marker = player_input()        # Tuple Unpacking"
   ]
  },
  {
   "cell_type": "code",
   "execution_count": 5,
   "metadata": {},
   "outputs": [],
   "source": [
    "def place_marker(board,marker,position):\n",
    "    \n",
    "    board[position] = marker\n",
    "    \n",
    "    return position"
   ]
  },
  {
   "cell_type": "code",
   "execution_count": 6,
   "metadata": {},
   "outputs": [],
   "source": [
    "def win_check(board, marker):\n",
    "    \n",
    "    return((board[7] == marker) and (board[8] == marker) and (board[9] == marker) or\n",
    "    (board[4] == marker) and (board[5] == marker) and (board[6] == marker) or\n",
    "    (board[1] == marker) and (board[2] == marker) and (board[3] == marker) or\n",
    "    (board[7] == marker) and (board[4] == marker) and (board[1] == marker) or\n",
    "    (board[8] == marker) and (board[5] == marker) and (board[2] == marker) or\n",
    "    (board[9] == marker) and (board[6] == marker) and (board[3] == marker) or\n",
    "    (board[7] == marker) and (board[5] == marker) and (board[3] == marker) or\n",
    "    (board[9] == marker) and (board[5] == marker) and (board[1] == marker))\n",
    "    "
   ]
  },
  {
   "cell_type": "code",
   "execution_count": 7,
   "metadata": {},
   "outputs": [],
   "source": [
    "import random\n",
    "\n",
    "def choose_first():\n",
    "    \n",
    "    if random.randint(0,1) == 0:\n",
    "        return 'Player 2'\n",
    "    \n",
    "    else:\n",
    "        return 'Player 1'"
   ]
  },
  {
   "cell_type": "code",
   "execution_count": 8,
   "metadata": {},
   "outputs": [],
   "source": [
    "def space_check(board,position):\n",
    "                                         # Khali position check krega\n",
    "    return board[position] == ''"
   ]
  },
  {
   "cell_type": "code",
   "execution_count": 9,
   "metadata": {},
   "outputs": [],
   "source": [
    "def full_board_check(board):\n",
    "    \n",
    "    for i in range(0,10):\n",
    "        if space_check(board,i):\n",
    "            return False\n",
    "    return True"
   ]
  },
  {
   "cell_type": "code",
   "execution_count": 10,
   "metadata": {},
   "outputs": [],
   "source": [
    "def player_choice(board):\n",
    "    \n",
    "    position = 0\n",
    "    \n",
    "    while position not in [1,2,3,4,5,6,7,8,9] or not space_check(board,position):\n",
    "        \n",
    "        position = int(input('CHOOSE UR POSITION : '))\n",
    "        \n",
    "    return position"
   ]
  },
  {
   "cell_type": "code",
   "execution_count": 11,
   "metadata": {},
   "outputs": [],
   "source": [
    "def replay():\n",
    "    \n",
    "    return input('Do you want to play again? Enter Yes or No: ').lower().startswith('y')"
   ]
  },
  {
   "cell_type": "code",
   "execution_count": null,
   "metadata": {},
   "outputs": [
    {
     "name": "stdout",
     "output_type": "stream",
     "text": [
      "        |        |        \n",
      "  X     |   X    |   O\n",
      "________|________|________\n",
      "        |        |        \n",
      "  O     |   X    |   X\n",
      "________|________|________\n",
      "        |        |        \n",
      "  X     |  O     |   O\n",
      "        |        |        \n",
      "CHOOSE UR POSITION : 6\n",
      "CHOOSE UR POSITION : 5\n",
      "CHOOSE UR POSITION : 53\n"
     ]
    }
   ],
   "source": [
    "#      GAME SCRIPT\n",
    "\n",
    "print('Welcome to Tic Tac Toe!')\n",
    "\n",
    "#while True:\n",
    "while True:\n",
    "    \n",
    "    # Set the game up here\n",
    "    the_board = ['']*10\n",
    "    player1_marker , player2_marker = player_input()\n",
    "    \n",
    "    turn = choose_first()\n",
    "    print(turn + ' will go first!')\n",
    "    \n",
    "    play_game = input('READY TO PLAY?? (Y or N)')\n",
    "    \n",
    "    if play_game.lower()[0] == 'y':\n",
    "        game_on = True\n",
    "        \n",
    "    else:\n",
    "        game_on = False\n",
    "\n",
    "        # GAME PLAY\n",
    "    while game_on:\n",
    "            \n",
    "        if turn == 'Player 1':\n",
    "                \n",
    "                #Player 1 Turn    \n",
    "                #Display board\n",
    "            \n",
    "            display_board(the_board)\n",
    "        \n",
    "                # CHOOSE A POSITION\n",
    "            \n",
    "            position = player_choice(the_board)\n",
    "            \n",
    "                # Place marker at the desired position\n",
    "                \n",
    "            place_marker(the_board,player1_marker,position)\n",
    "            \n",
    "                # Check win\n",
    "            if win_check(the_board,player1_marker):\n",
    "                display_board(the_board)\n",
    "                print('Player 1 has won!')\n",
    "                break\n",
    "                    \n",
    "                    # Check tie\n",
    "                    \n",
    "            else:\n",
    "                if full_board_check(the_board):\n",
    "                    display_board(the_board)\n",
    "                    print('GAME TIES!')\n",
    "                    break\n",
    "                    \n",
    "                else:\n",
    "                    turn = 'Player 2'\n",
    "            \n",
    "            # if not win and no tie then, next player's turn\n",
    "            # Player2's turn.\n",
    "        else:\n",
    "                #Player 2Turn    \n",
    "                #Display board\n",
    "            \n",
    "            display_board(the_board)\n",
    "        \n",
    "                # CHOOSE A POSITION\n",
    "            \n",
    "            position = player_choice(the_board)\n",
    "            \n",
    "                # Place marker at the desired position\n",
    "                \n",
    "            place_marker(the_board,player2_marker,position)\n",
    "            \n",
    "                # Check win\n",
    "            if win_check(the_board,player2_marker):\n",
    "                display_board(the_board)\n",
    "                print('Player 2 has won !')\n",
    "                break\n",
    "                    \n",
    "                    # Check tie\n",
    "                    \n",
    "            else:\n",
    "                if full_board_check(the_board):\n",
    "                    display_board(the_board)\n",
    "                    print('GAME TIES!')\n",
    "                    break\n",
    "                    \n",
    "                else:\n",
    "                    turn ='Player 1'        \n",
    "        \n",
    "        \n",
    "\n",
    "    if not replay():\n",
    "        break\n",
    "        \n",
    "#  code written by LAKSHAY CHAWLA"
   ]
  },
  {
   "cell_type": "code",
   "execution_count": null,
   "metadata": {},
   "outputs": [],
   "source": []
  },
  {
   "cell_type": "code",
   "execution_count": null,
   "metadata": {},
   "outputs": [],
   "source": []
  }
 ],
 "metadata": {
  "kernelspec": {
   "display_name": "Python 3",
   "language": "python",
   "name": "python3"
  },
  "language_info": {
   "codemirror_mode": {
    "name": "ipython",
    "version": 3
   },
   "file_extension": ".py",
   "mimetype": "text/x-python",
   "name": "python",
   "nbconvert_exporter": "python",
   "pygments_lexer": "ipython3",
   "version": "3.7.6"
  }
 },
 "nbformat": 4,
 "nbformat_minor": 4
}
